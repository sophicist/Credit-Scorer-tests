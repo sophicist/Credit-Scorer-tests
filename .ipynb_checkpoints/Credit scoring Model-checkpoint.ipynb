{
 "cells": [
  {
   "cell_type": "code",
   "execution_count": 77,
   "metadata": {},
   "outputs": [
    {
     "name": "stdout",
     "output_type": "stream",
     "text": [
      "Checking whether there is an H2O instance running at http://localhost:54321 . connected.\n",
      "Warning: Your H2O cluster version is too old (4 months and 3 days)! Please download and install the latest version from http://h2o.ai/download/\n"
     ]
    },
    {
     "data": {
      "text/html": [
       "<div style=\"overflow:auto\"><table style=\"width:50%\"><tr><td>H2O cluster uptime:</td>\n",
       "<td>1 hour 18 mins</td></tr>\n",
       "<tr><td>H2O cluster timezone:</td>\n",
       "<td>Africa/Nairobi</td></tr>\n",
       "<tr><td>H2O data parsing timezone:</td>\n",
       "<td>UTC</td></tr>\n",
       "<tr><td>H2O cluster version:</td>\n",
       "<td>3.24.0.1</td></tr>\n",
       "<tr><td>H2O cluster version age:</td>\n",
       "<td>4 months and 3 days !!!</td></tr>\n",
       "<tr><td>H2O cluster name:</td>\n",
       "<td>H2O_from_python_Maria_c4nlcn</td></tr>\n",
       "<tr><td>H2O cluster total nodes:</td>\n",
       "<td>1</td></tr>\n",
       "<tr><td>H2O cluster free memory:</td>\n",
       "<td>1.549 Gb</td></tr>\n",
       "<tr><td>H2O cluster total cores:</td>\n",
       "<td>4</td></tr>\n",
       "<tr><td>H2O cluster allowed cores:</td>\n",
       "<td>4</td></tr>\n",
       "<tr><td>H2O cluster status:</td>\n",
       "<td>locked, healthy</td></tr>\n",
       "<tr><td>H2O connection url:</td>\n",
       "<td>http://localhost:54321</td></tr>\n",
       "<tr><td>H2O connection proxy:</td>\n",
       "<td>None</td></tr>\n",
       "<tr><td>H2O internal security:</td>\n",
       "<td>False</td></tr>\n",
       "<tr><td>H2O API Extensions:</td>\n",
       "<td>Amazon S3, Algos, AutoML, Core V3, Core V4</td></tr>\n",
       "<tr><td>Python version:</td>\n",
       "<td>3.7.0 final</td></tr></table></div>"
      ],
      "text/plain": [
       "--------------------------  ------------------------------------------\n",
       "H2O cluster uptime:         1 hour 18 mins\n",
       "H2O cluster timezone:       Africa/Nairobi\n",
       "H2O data parsing timezone:  UTC\n",
       "H2O cluster version:        3.24.0.1\n",
       "H2O cluster version age:    4 months and 3 days !!!\n",
       "H2O cluster name:           H2O_from_python_Maria_c4nlcn\n",
       "H2O cluster total nodes:    1\n",
       "H2O cluster free memory:    1.549 Gb\n",
       "H2O cluster total cores:    4\n",
       "H2O cluster allowed cores:  4\n",
       "H2O cluster status:         locked, healthy\n",
       "H2O connection url:         http://localhost:54321\n",
       "H2O connection proxy:\n",
       "H2O internal security:      False\n",
       "H2O API Extensions:         Amazon S3, Algos, AutoML, Core V3, Core V4\n",
       "Python version:             3.7.0 final\n",
       "--------------------------  ------------------------------------------"
      ]
     },
     "metadata": {},
     "output_type": "display_data"
    }
   ],
   "source": [
    "import pandas as pd\n",
    "import h2o,os\n",
    "import numpy as np\n",
    "import matplotlib.pyplot as plt\n",
    "h2o.init()\n",
    "import warnings\n",
    "warnings.filterwarnings('ignore')"
   ]
  },
  {
   "cell_type": "code",
   "execution_count": 3,
   "metadata": {},
   "outputs": [
    {
     "name": "stderr",
     "output_type": "stream",
     "text": [
      "C:\\Users\\Maria\\Anaconda31\\lib\\site-packages\\IPython\\core\\interactiveshell.py:2785: DtypeWarning: Columns (0,47) have mixed types. Specify dtype option on import or set low_memory=False.\n",
      "  interactivity=interactivity, compiler=compiler, result=result)\n"
     ]
    },
    {
     "data": {
      "text/html": [
       "<div>\n",
       "<style scoped>\n",
       "    .dataframe tbody tr th:only-of-type {\n",
       "        vertical-align: middle;\n",
       "    }\n",
       "\n",
       "    .dataframe tbody tr th {\n",
       "        vertical-align: top;\n",
       "    }\n",
       "\n",
       "    .dataframe thead th {\n",
       "        text-align: right;\n",
       "    }\n",
       "</style>\n",
       "<table border=\"1\" class=\"dataframe\">\n",
       "  <thead>\n",
       "    <tr style=\"text-align: right;\">\n",
       "      <th></th>\n",
       "      <th>loan_amnt</th>\n",
       "      <th>funded_amnt</th>\n",
       "      <th>installment</th>\n",
       "      <th>int_rate</th>\n",
       "      <th>term</th>\n",
       "      <th>emp_length</th>\n",
       "      <th>home_ownership</th>\n",
       "      <th>annual_inc</th>\n",
       "      <th>purpose</th>\n",
       "      <th>loan_status</th>\n",
       "    </tr>\n",
       "  </thead>\n",
       "  <tbody>\n",
       "    <tr>\n",
       "      <th>0</th>\n",
       "      <td>5000.0</td>\n",
       "      <td>5000.0</td>\n",
       "      <td>162.87</td>\n",
       "      <td>10.65%</td>\n",
       "      <td>36 months</td>\n",
       "      <td>10+ years</td>\n",
       "      <td>RENT</td>\n",
       "      <td>24000.0</td>\n",
       "      <td>credit_card</td>\n",
       "      <td>Fully Paid</td>\n",
       "    </tr>\n",
       "    <tr>\n",
       "      <th>1</th>\n",
       "      <td>2500.0</td>\n",
       "      <td>2500.0</td>\n",
       "      <td>59.83</td>\n",
       "      <td>15.27%</td>\n",
       "      <td>60 months</td>\n",
       "      <td>&lt; 1 year</td>\n",
       "      <td>RENT</td>\n",
       "      <td>30000.0</td>\n",
       "      <td>car</td>\n",
       "      <td>Charged Off</td>\n",
       "    </tr>\n",
       "    <tr>\n",
       "      <th>2</th>\n",
       "      <td>2400.0</td>\n",
       "      <td>2400.0</td>\n",
       "      <td>84.33</td>\n",
       "      <td>15.96%</td>\n",
       "      <td>36 months</td>\n",
       "      <td>10+ years</td>\n",
       "      <td>RENT</td>\n",
       "      <td>12252.0</td>\n",
       "      <td>small_business</td>\n",
       "      <td>Fully Paid</td>\n",
       "    </tr>\n",
       "    <tr>\n",
       "      <th>3</th>\n",
       "      <td>10000.0</td>\n",
       "      <td>10000.0</td>\n",
       "      <td>339.31</td>\n",
       "      <td>13.49%</td>\n",
       "      <td>36 months</td>\n",
       "      <td>10+ years</td>\n",
       "      <td>RENT</td>\n",
       "      <td>49200.0</td>\n",
       "      <td>other</td>\n",
       "      <td>Fully Paid</td>\n",
       "    </tr>\n",
       "    <tr>\n",
       "      <th>4</th>\n",
       "      <td>3000.0</td>\n",
       "      <td>3000.0</td>\n",
       "      <td>67.79</td>\n",
       "      <td>12.69%</td>\n",
       "      <td>60 months</td>\n",
       "      <td>1 year</td>\n",
       "      <td>RENT</td>\n",
       "      <td>80000.0</td>\n",
       "      <td>other</td>\n",
       "      <td>Fully Paid</td>\n",
       "    </tr>\n",
       "  </tbody>\n",
       "</table>\n",
       "</div>"
      ],
      "text/plain": [
       "   loan_amnt  funded_amnt  installment int_rate        term emp_length  \\\n",
       "0     5000.0       5000.0       162.87   10.65%   36 months  10+ years   \n",
       "1     2500.0       2500.0        59.83   15.27%   60 months   < 1 year   \n",
       "2     2400.0       2400.0        84.33   15.96%   36 months  10+ years   \n",
       "3    10000.0      10000.0       339.31   13.49%   36 months  10+ years   \n",
       "4     3000.0       3000.0        67.79   12.69%   60 months     1 year   \n",
       "\n",
       "  home_ownership  annual_inc         purpose  loan_status  \n",
       "0           RENT     24000.0     credit_card   Fully Paid  \n",
       "1           RENT     30000.0             car  Charged Off  \n",
       "2           RENT     12252.0  small_business   Fully Paid  \n",
       "3           RENT     49200.0           other   Fully Paid  \n",
       "4           RENT     80000.0           other   Fully Paid  "
      ]
     },
     "execution_count": 3,
     "metadata": {},
     "output_type": "execute_result"
    }
   ],
   "source": [
    "df =pd.read_csv('LoanStats3a.csv')\n",
    "df.shape\n",
    "#os.listdir()\n",
    "df.columns\n",
    "useful =['loan_amnt','funded_amnt','installment','int_rate',\n",
    "         'term','emp_length','home_ownership','annual_inc','purpose','loan_status']\n",
    "df =df[useful]\n",
    "df.head()"
   ]
  },
  {
   "cell_type": "code",
   "execution_count": 4,
   "metadata": {},
   "outputs": [
    {
     "data": {
      "text/plain": [
       "loan_amnt          0\n",
       "funded_amnt        0\n",
       "installment        0\n",
       "int_rate           0\n",
       "term               0\n",
       "emp_length         0\n",
       "home_ownership     0\n",
       "annual_inc         0\n",
       "purpose            0\n",
       "loan_status        0\n",
       "loan_status_bin    0\n",
       "dtype: int64"
      ]
     },
     "execution_count": 4,
     "metadata": {},
     "output_type": "execute_result"
    }
   ],
   "source": [
    "loans =df.copy()\n",
    "loans = loans[(loans['loan_status']=='Fully Paid') | (loans['loan_status']=='Charged Off')]\n",
    "loans['loan_status_bin'] = loans['loan_status'].map({'Charged Off': 1, 'Fully Paid': 0}) # 0 good loans 1 bad loans\n",
    "loans[\"int_rate\"]=[float(i.replace(\"%\",\"\")) for i in loans.int_rate]\n",
    "loans['term'] =[int(i[:3]) for i in loans.term]\n",
    "loans.head()\n",
    "loans.isnull().sum()\n",
    "loans = loans.fillna(0)\n",
    "loans.isnull().sum()"
   ]
  },
  {
   "cell_type": "code",
   "execution_count": 5,
   "metadata": {},
   "outputs": [
    {
     "data": {
      "text/plain": [
       "10    8899\n",
       "1     7837\n",
       "2     4394\n",
       "3     4098\n",
       "4     3444\n",
       "5     3286\n",
       "6     2231\n",
       "7     1775\n",
       "8     1485\n",
       "9     1259\n",
       "0     1078\n",
       "Name: emp_length, dtype: int64"
      ]
     },
     "execution_count": 5,
     "metadata": {},
     "output_type": "execute_result"
    }
   ],
   "source": [
    "loans['emp_length'] = [str(i).replace('years',\"\") for i in loans['emp_length'] ]\n",
    "#loans['emp_length'] = loans['emp_length'].fillna(0)\n",
    "loans['emp_length'] = [str(i).replace('year',\"\") for i in loans['emp_length'] ]\n",
    "loans['emp_length'] = [str(i).replace('<',\"\") for i in loans['emp_length'] ]\n",
    "loans['emp_length'] = [str(i).replace('+',\"\") for i in loans['emp_length'] ]\n",
    "\n",
    "loans['emp_length'] = [int(i) for i in loans['emp_length'] ]\n",
    "\n",
    "loans.emp_length.value_counts()\n"
   ]
  },
  {
   "cell_type": "code",
   "execution_count": 13,
   "metadata": {},
   "outputs": [
    {
     "name": "stdout",
     "output_type": "stream",
     "text": [
      "(34116, 11) (5670, 11) (11340, 11)\n"
     ]
    },
    {
     "data": {
      "text/html": [
       "<div>\n",
       "<style scoped>\n",
       "    .dataframe tbody tr th:only-of-type {\n",
       "        vertical-align: middle;\n",
       "    }\n",
       "\n",
       "    .dataframe tbody tr th {\n",
       "        vertical-align: top;\n",
       "    }\n",
       "\n",
       "    .dataframe thead th {\n",
       "        text-align: right;\n",
       "    }\n",
       "</style>\n",
       "<table border=\"1\" class=\"dataframe\">\n",
       "  <thead>\n",
       "    <tr style=\"text-align: right;\">\n",
       "      <th></th>\n",
       "      <th>loan_amnt</th>\n",
       "      <th>funded_amnt</th>\n",
       "      <th>installment</th>\n",
       "      <th>int_rate</th>\n",
       "      <th>term</th>\n",
       "      <th>emp_length</th>\n",
       "      <th>home_ownership</th>\n",
       "      <th>annual_inc</th>\n",
       "      <th>purpose</th>\n",
       "      <th>loan_status</th>\n",
       "      <th>loan_status_bin</th>\n",
       "    </tr>\n",
       "  </thead>\n",
       "  <tbody>\n",
       "    <tr>\n",
       "      <th>2076</th>\n",
       "      <td>9800.0</td>\n",
       "      <td>9800.0</td>\n",
       "      <td>328.74</td>\n",
       "      <td>12.69</td>\n",
       "      <td>36</td>\n",
       "      <td>10</td>\n",
       "      <td>MORTGAGE</td>\n",
       "      <td>88000.0</td>\n",
       "      <td>home_improvement</td>\n",
       "      <td>Fully Paid</td>\n",
       "      <td>Good</td>\n",
       "    </tr>\n",
       "    <tr>\n",
       "      <th>14765</th>\n",
       "      <td>5500.0</td>\n",
       "      <td>5500.0</td>\n",
       "      <td>182.66</td>\n",
       "      <td>11.99</td>\n",
       "      <td>36</td>\n",
       "      <td>10</td>\n",
       "      <td>RENT</td>\n",
       "      <td>57600.0</td>\n",
       "      <td>debt_consolidation</td>\n",
       "      <td>Charged Off</td>\n",
       "      <td>bad</td>\n",
       "    </tr>\n",
       "    <tr>\n",
       "      <th>5297</th>\n",
       "      <td>2000.0</td>\n",
       "      <td>2000.0</td>\n",
       "      <td>67.87</td>\n",
       "      <td>13.49</td>\n",
       "      <td>36</td>\n",
       "      <td>2</td>\n",
       "      <td>RENT</td>\n",
       "      <td>20400.0</td>\n",
       "      <td>car</td>\n",
       "      <td>Fully Paid</td>\n",
       "      <td>Good</td>\n",
       "    </tr>\n",
       "    <tr>\n",
       "      <th>30053</th>\n",
       "      <td>23500.0</td>\n",
       "      <td>18600.0</td>\n",
       "      <td>647.79</td>\n",
       "      <td>15.33</td>\n",
       "      <td>36</td>\n",
       "      <td>0</td>\n",
       "      <td>MORTGAGE</td>\n",
       "      <td>64800.0</td>\n",
       "      <td>debt_consolidation</td>\n",
       "      <td>Charged Off</td>\n",
       "      <td>bad</td>\n",
       "    </tr>\n",
       "    <tr>\n",
       "      <th>777</th>\n",
       "      <td>14400.0</td>\n",
       "      <td>14400.0</td>\n",
       "      <td>481.18</td>\n",
       "      <td>12.42</td>\n",
       "      <td>36</td>\n",
       "      <td>5</td>\n",
       "      <td>OWN</td>\n",
       "      <td>48000.0</td>\n",
       "      <td>credit_card</td>\n",
       "      <td>Fully Paid</td>\n",
       "      <td>Good</td>\n",
       "    </tr>\n",
       "  </tbody>\n",
       "</table>\n",
       "</div>"
      ],
      "text/plain": [
       "       loan_amnt  funded_amnt  installment  int_rate  term  emp_length  \\\n",
       "2076      9800.0       9800.0       328.74     12.69    36          10   \n",
       "14765     5500.0       5500.0       182.66     11.99    36          10   \n",
       "5297      2000.0       2000.0        67.87     13.49    36           2   \n",
       "30053    23500.0      18600.0       647.79     15.33    36           0   \n",
       "777      14400.0      14400.0       481.18     12.42    36           5   \n",
       "\n",
       "      home_ownership  annual_inc             purpose  loan_status  \\\n",
       "2076        MORTGAGE     88000.0    home_improvement   Fully Paid   \n",
       "14765           RENT     57600.0  debt_consolidation  Charged Off   \n",
       "5297            RENT     20400.0                 car   Fully Paid   \n",
       "30053       MORTGAGE     64800.0  debt_consolidation  Charged Off   \n",
       "777              OWN     48000.0         credit_card   Fully Paid   \n",
       "\n",
       "      loan_status_bin  \n",
       "2076             Good  \n",
       "14765             bad  \n",
       "5297             Good  \n",
       "30053             bad  \n",
       "777              Good  "
      ]
     },
     "execution_count": 13,
     "metadata": {},
     "output_type": "execute_result"
    }
   ],
   "source": [
    "#balancing\n",
    "loans.loan_status_bin.value_counts()\n",
    "\n",
    "# Balancing the data ti improve overall performance\n",
    "filter1 = loans.loan_status_bin == 0\n",
    "filter2 = loans.loan_status_bin == 1\n",
    "good_loans = loans[filter1]\n",
    "bad_loans = loans[filter2]\n",
    "slices = good_loans.iloc[:5670,:]\n",
    "new = pd.concat((bad_loans,slices),0)\n",
    "print(good_loans.shape,bad_loans.shape,new.shape)\n",
    "new.loan_status_bin.value_counts()\n",
    "new.head()\n",
    "new['loan_status_bin'] =[\"Good\" if i==0 else 'bad' for i in new['loan_status_bin']]\n",
    "new = new.sample(frac=1)#randomize the data\n",
    "new.head()"
   ]
  },
  {
   "cell_type": "code",
   "execution_count": 30,
   "metadata": {},
   "outputs": [
    {
     "name": "stdout",
     "output_type": "stream",
     "text": [
      "Parse progress: |█████████████████████████████████████████████████████████| 100%\n",
      "deeplearning Model Build progress: |██████████████████████████████████████| 100%\n",
      "drf Model Build progress: |███████████████████████████████████████████████| 100%\n",
      "gbm Model Build progress: |███████████████████████████████████████████████| 100%\n"
     ]
    }
   ],
   "source": [
    "#create the model\n",
    "x=['loan_amnt', 'funded_amnt', 'installment', 'int_rate', 'term',\n",
    "       'emp_length', 'home_ownership', 'annual_inc', 'purpose', \n",
    "       ]\n",
    "N =h2o.H2OFrame(new)\n",
    "train,test,valid =N.split_frame([0.8,0.1])\n",
    "from h2o.estimators import H2OGradientBoostingEstimator as GB\n",
    "from h2o.estimators import H2ORandomForestEstimator as RF\n",
    "from h2o.estimators import H2ODeepLearningEstimator as DL\n",
    "\n",
    "model1 = RF()\n",
    "model =GB()\n",
    "model2 = DL()\n",
    "model2.train(x =x,y ='loan_status_bin',training_frame =train,validation_frame =test)\n",
    "model1.train(x =x,y ='loan_status_bin',training_frame =train,validation_frame =test)\n",
    "model.train(x =x,y ='loan_status_bin',training_frame =train,validation_frame =test)"
   ]
  },
  {
   "cell_type": "code",
   "execution_count": 31,
   "metadata": {},
   "outputs": [
    {
     "name": "stdout",
     "output_type": "stream",
     "text": [
      "drf prediction progress: |████████████████████████████████████████████████| 100%\n",
      "Confusion Matrix (Act/Pred) for max f1 @ threshold = 0.5277337486610872: \n"
     ]
    },
    {
     "data": {
      "text/html": [
       "<div style=\"overflow:auto\"><table style=\"width:50%\"><tr><td><b></b></td>\n",
       "<td><b>Good</b></td>\n",
       "<td><b>bad</b></td>\n",
       "<td><b>Error</b></td>\n",
       "<td><b>Rate</b></td></tr>\n",
       "<tr><td>Good</td>\n",
       "<td>4051.0</td>\n",
       "<td>497.0</td>\n",
       "<td>0.1093</td>\n",
       "<td> (497.0/4548.0)</td></tr>\n",
       "<tr><td>bad</td>\n",
       "<td>767.0</td>\n",
       "<td>3762.0</td>\n",
       "<td>0.1694</td>\n",
       "<td> (767.0/4529.0)</td></tr>\n",
       "<tr><td>Total</td>\n",
       "<td>4818.0</td>\n",
       "<td>4259.0</td>\n",
       "<td>0.1393</td>\n",
       "<td> (1264.0/9077.0)</td></tr></table></div>"
      ],
      "text/plain": [
       "       Good    bad    Error    Rate\n",
       "-----  ------  -----  -------  ---------------\n",
       "Good   4051    497    0.1093   (497.0/4548.0)\n",
       "bad    767     3762   0.1694   (767.0/4529.0)\n",
       "Total  4818    4259   0.1393   (1264.0/9077.0)"
      ]
     },
     "metadata": {},
     "output_type": "display_data"
    },
    {
     "name": "stdout",
     "output_type": "stream",
     "text": [
      "\n",
      "Confusion Matrix (Act/Pred) for max f1 @ threshold = 0.41186931630734774: \n"
     ]
    },
    {
     "data": {
      "text/html": [
       "<div style=\"overflow:auto\"><table style=\"width:50%\"><tr><td><b></b></td>\n",
       "<td><b>Good</b></td>\n",
       "<td><b>bad</b></td>\n",
       "<td><b>Error</b></td>\n",
       "<td><b>Rate</b></td></tr>\n",
       "<tr><td>Good</td>\n",
       "<td>2770.0</td>\n",
       "<td>1778.0</td>\n",
       "<td>0.3909</td>\n",
       "<td> (1778.0/4548.0)</td></tr>\n",
       "<tr><td>bad</td>\n",
       "<td>755.0</td>\n",
       "<td>3774.0</td>\n",
       "<td>0.1667</td>\n",
       "<td> (755.0/4529.0)</td></tr>\n",
       "<tr><td>Total</td>\n",
       "<td>3525.0</td>\n",
       "<td>5552.0</td>\n",
       "<td>0.2791</td>\n",
       "<td> (2533.0/9077.0)</td></tr></table></div>"
      ],
      "text/plain": [
       "       Good    bad    Error    Rate\n",
       "-----  ------  -----  -------  ---------------\n",
       "Good   2770    1778   0.3909   (1778.0/4548.0)\n",
       "bad    755     3774   0.1667   (755.0/4529.0)\n",
       "Total  3525    5552   0.2791   (2533.0/9077.0)"
      ]
     },
     "metadata": {},
     "output_type": "display_data"
    },
    {
     "name": "stdout",
     "output_type": "stream",
     "text": [
      "\n",
      "Confusion Matrix (Act/Pred) for max f1 @ threshold = 0.26196854117670193: \n"
     ]
    },
    {
     "data": {
      "text/html": [
       "<div style=\"overflow:auto\"><table style=\"width:50%\"><tr><td><b></b></td>\n",
       "<td><b>Good</b></td>\n",
       "<td><b>bad</b></td>\n",
       "<td><b>Error</b></td>\n",
       "<td><b>Rate</b></td></tr>\n",
       "<tr><td>Good</td>\n",
       "<td>2017.0</td>\n",
       "<td>2531.0</td>\n",
       "<td>0.5565</td>\n",
       "<td> (2531.0/4548.0)</td></tr>\n",
       "<tr><td>bad</td>\n",
       "<td>674.0</td>\n",
       "<td>3855.0</td>\n",
       "<td>0.1488</td>\n",
       "<td> (674.0/4529.0)</td></tr>\n",
       "<tr><td>Total</td>\n",
       "<td>2691.0</td>\n",
       "<td>6386.0</td>\n",
       "<td>0.3531</td>\n",
       "<td> (3205.0/9077.0)</td></tr></table></div>"
      ],
      "text/plain": [
       "       Good    bad    Error    Rate\n",
       "-----  ------  -----  -------  ---------------\n",
       "Good   2017    2531   0.5565   (2531.0/4548.0)\n",
       "bad    674     3855   0.1488   (674.0/4529.0)\n",
       "Total  2691    6386   0.3531   (3205.0/9077.0)"
      ]
     },
     "metadata": {},
     "output_type": "display_data"
    },
    {
     "name": "stdout",
     "output_type": "stream",
     "text": [
      "\n"
     ]
    }
   ],
   "source": [
    "#model1.plot()\n",
    "#model1.varimp_plot()\n",
    "pred =model1.predict(test)\n",
    "print(model.confusion_matrix())\n",
    "print(model1.confusion_matrix())\n",
    "print(model2.confusion_matrix())\n",
    "#model1.roc"
   ]
  },
  {
   "cell_type": "code",
   "execution_count": 34,
   "metadata": {},
   "outputs": [],
   "source": [
    "u =h2o.save_model(model,path=\"C:\\\\Users\\\\Maria\\\\Desktop\\\\creditscore_mbugua\\\\load_model\\\\good\")"
   ]
  },
  {
   "cell_type": "code",
   "execution_count": 36,
   "metadata": {},
   "outputs": [],
   "source": [
    "silly = h2o.load_model(u)"
   ]
  },
  {
   "cell_type": "code",
   "execution_count": 45,
   "metadata": {},
   "outputs": [
    {
     "name": "stdout",
     "output_type": "stream",
     "text": [
      "Parse progress: |█████████████████████████████████████████████████████████| 100%\n",
      "gbm prediction progress: |████████████████████████████████████████████████| 100%\n"
     ]
    },
    {
     "data": {
      "text/html": [
       "<table>\n",
       "<thead>\n",
       "<tr><th>predict  </th><th style=\"text-align: right;\">    Good</th><th style=\"text-align: right;\">     bad</th></tr>\n",
       "</thead>\n",
       "<tbody>\n",
       "<tr><td>bad      </td><td style=\"text-align: right;\">0.114673</td><td style=\"text-align: right;\">0.885327</td></tr>\n",
       "</tbody>\n",
       "</table>"
      ]
     },
     "metadata": {},
     "output_type": "display_data"
    },
    {
     "data": {
      "text/plain": []
     },
     "execution_count": 45,
     "metadata": {},
     "output_type": "execute_result"
    }
   ],
   "source": [
    "loan_amnt =1000\n",
    "funded_amnt =1000 \n",
    "installment =2 \n",
    "int_rate =10 \n",
    "term =36\n",
    "emp_length =10\n",
    "home_ownership =\"OWN\" \n",
    "annual_inc =30000\n",
    "purpose = \"car\" \n",
    "kamau =[loan_amnt,funded_amnt,installment,int_rate,term,emp_length,home_ownership,annual_inc,purpose]\n",
    "B =pd.DataFrame([kamau],columns =['loan_amnt', 'funded_amnt', 'installment', 'int_rate', 'term','emp_length', 'home_ownership', 'annual_inc', 'purpose'])\n",
    "B = h2o.H2OFrame(B)\n",
    "B\n",
    "silly.predict(B)"
   ]
  },
  {
   "cell_type": "code",
   "execution_count": 48,
   "metadata": {},
   "outputs": [
    {
     "data": {
      "text/html": [
       "<div>\n",
       "<style scoped>\n",
       "    .dataframe tbody tr th:only-of-type {\n",
       "        vertical-align: middle;\n",
       "    }\n",
       "\n",
       "    .dataframe tbody tr th {\n",
       "        vertical-align: top;\n",
       "    }\n",
       "\n",
       "    .dataframe thead th {\n",
       "        text-align: right;\n",
       "    }\n",
       "</style>\n",
       "<table border=\"1\" class=\"dataframe\">\n",
       "  <thead>\n",
       "    <tr style=\"text-align: right;\">\n",
       "      <th></th>\n",
       "      <th>loan_amnt</th>\n",
       "      <th>funded_amnt</th>\n",
       "      <th>installment</th>\n",
       "      <th>int_rate</th>\n",
       "      <th>term</th>\n",
       "      <th>emp_length</th>\n",
       "      <th>home_ownership</th>\n",
       "      <th>annual_inc</th>\n",
       "      <th>purpose</th>\n",
       "      <th>loan_status</th>\n",
       "      <th>loan_status_bin</th>\n",
       "    </tr>\n",
       "  </thead>\n",
       "  <tbody>\n",
       "    <tr>\n",
       "      <th>2076</th>\n",
       "      <td>9800.0</td>\n",
       "      <td>9800.0</td>\n",
       "      <td>328.74</td>\n",
       "      <td>12.69</td>\n",
       "      <td>36</td>\n",
       "      <td>10</td>\n",
       "      <td>MORTGAGE</td>\n",
       "      <td>88000.0</td>\n",
       "      <td>home_improvement</td>\n",
       "      <td>Fully Paid</td>\n",
       "      <td>Good</td>\n",
       "    </tr>\n",
       "    <tr>\n",
       "      <th>14765</th>\n",
       "      <td>5500.0</td>\n",
       "      <td>5500.0</td>\n",
       "      <td>182.66</td>\n",
       "      <td>11.99</td>\n",
       "      <td>36</td>\n",
       "      <td>10</td>\n",
       "      <td>RENT</td>\n",
       "      <td>57600.0</td>\n",
       "      <td>debt_consolidation</td>\n",
       "      <td>Charged Off</td>\n",
       "      <td>bad</td>\n",
       "    </tr>\n",
       "    <tr>\n",
       "      <th>5297</th>\n",
       "      <td>2000.0</td>\n",
       "      <td>2000.0</td>\n",
       "      <td>67.87</td>\n",
       "      <td>13.49</td>\n",
       "      <td>36</td>\n",
       "      <td>2</td>\n",
       "      <td>RENT</td>\n",
       "      <td>20400.0</td>\n",
       "      <td>car</td>\n",
       "      <td>Fully Paid</td>\n",
       "      <td>Good</td>\n",
       "    </tr>\n",
       "    <tr>\n",
       "      <th>30053</th>\n",
       "      <td>23500.0</td>\n",
       "      <td>18600.0</td>\n",
       "      <td>647.79</td>\n",
       "      <td>15.33</td>\n",
       "      <td>36</td>\n",
       "      <td>0</td>\n",
       "      <td>MORTGAGE</td>\n",
       "      <td>64800.0</td>\n",
       "      <td>debt_consolidation</td>\n",
       "      <td>Charged Off</td>\n",
       "      <td>bad</td>\n",
       "    </tr>\n",
       "    <tr>\n",
       "      <th>777</th>\n",
       "      <td>14400.0</td>\n",
       "      <td>14400.0</td>\n",
       "      <td>481.18</td>\n",
       "      <td>12.42</td>\n",
       "      <td>36</td>\n",
       "      <td>5</td>\n",
       "      <td>OWN</td>\n",
       "      <td>48000.0</td>\n",
       "      <td>credit_card</td>\n",
       "      <td>Fully Paid</td>\n",
       "      <td>Good</td>\n",
       "    </tr>\n",
       "  </tbody>\n",
       "</table>\n",
       "</div>"
      ],
      "text/plain": [
       "       loan_amnt  funded_amnt  installment  int_rate  term  emp_length  \\\n",
       "2076      9800.0       9800.0       328.74     12.69    36          10   \n",
       "14765     5500.0       5500.0       182.66     11.99    36          10   \n",
       "5297      2000.0       2000.0        67.87     13.49    36           2   \n",
       "30053    23500.0      18600.0       647.79     15.33    36           0   \n",
       "777      14400.0      14400.0       481.18     12.42    36           5   \n",
       "\n",
       "      home_ownership  annual_inc             purpose  loan_status  \\\n",
       "2076        MORTGAGE     88000.0    home_improvement   Fully Paid   \n",
       "14765           RENT     57600.0  debt_consolidation  Charged Off   \n",
       "5297            RENT     20400.0                 car   Fully Paid   \n",
       "30053       MORTGAGE     64800.0  debt_consolidation  Charged Off   \n",
       "777              OWN     48000.0         credit_card   Fully Paid   \n",
       "\n",
       "      loan_status_bin  \n",
       "2076             Good  \n",
       "14765             bad  \n",
       "5297             Good  \n",
       "30053             bad  \n",
       "777              Good  "
      ]
     },
     "execution_count": 48,
     "metadata": {},
     "output_type": "execute_result"
    }
   ],
   "source": [
    "new.head()\n",
    "#new.columns"
   ]
  },
  {
   "cell_type": "code",
   "execution_count": 46,
   "metadata": {},
   "outputs": [
    {
     "ename": "NotADirectoryError",
     "evalue": "[WinError 267] The directory name is invalid: 'C:\\\\Users\\\\Maria\\\\Desktop\\\\creditscore_mbugua\\\\load_model\\\\good\\\\GBM_model_python_1564914397585_628'",
     "output_type": "error",
     "traceback": [
      "\u001b[1;31m---------------------------------------------------------------------------\u001b[0m",
      "\u001b[1;31mNotADirectoryError\u001b[0m                        Traceback (most recent call last)",
      "\u001b[1;32m<ipython-input-46-b8b9c9e5ca42>\u001b[0m in \u001b[0;36m<module>\u001b[1;34m()\u001b[0m\n\u001b[1;32m----> 1\u001b[1;33m \u001b[0mos\u001b[0m\u001b[1;33m.\u001b[0m\u001b[0mlistdir\u001b[0m\u001b[1;33m(\u001b[0m\u001b[0mu\u001b[0m\u001b[1;33m)\u001b[0m\u001b[1;33m\u001b[0m\u001b[0m\n\u001b[0m",
      "\u001b[1;31mNotADirectoryError\u001b[0m: [WinError 267] The directory name is invalid: 'C:\\\\Users\\\\Maria\\\\Desktop\\\\creditscore_mbugua\\\\load_model\\\\good\\\\GBM_model_python_1564914397585_628'"
     ]
    }
   ],
   "source": [
    "os.listdir(u)"
   ]
  },
  {
   "cell_type": "code",
   "execution_count": 47,
   "metadata": {},
   "outputs": [
    {
     "data": {
      "text/plain": [
       "'C:\\\\Users\\\\Maria\\\\Desktop\\\\creditscore_mbugua\\\\load_model\\\\good\\\\GBM_model_python_1564914397585_628'"
      ]
     },
     "execution_count": 47,
     "metadata": {},
     "output_type": "execute_result"
    }
   ],
   "source": [
    "u"
   ]
  },
  {
   "cell_type": "code",
   "execution_count": 53,
   "metadata": {},
   "outputs": [
    {
     "data": {
      "text/plain": [
       "[2500.0,\n",
       " 2500.0,\n",
       " 59.829999999999998,\n",
       " 15.27,\n",
       " 60,\n",
       " 1,\n",
       " 'RENT',\n",
       " 30000.0,\n",
       " 'car',\n",
       " 'Charged Off',\n",
       " 1]"
      ]
     },
     "execution_count": 53,
     "metadata": {},
     "output_type": "execute_result"
    }
   ],
   "source": [
    "loans.head()\n",
    "list(loans.iloc[1,:])"
   ]
  },
  {
   "cell_type": "code",
   "execution_count": 80,
   "metadata": {},
   "outputs": [
    {
     "name": "stdout",
     "output_type": "stream",
     "text": [
      "gbm prediction progress: |████████████████████████████████████████████████| 100%\n"
     ]
    }
   ],
   "source": [
    "\n",
    "a =silly.predict(test[1:5,:])\n"
   ]
  },
  {
   "cell_type": "code",
   "execution_count": 88,
   "metadata": {},
   "outputs": [
    {
     "data": {
      "text/html": [
       "<table>\n",
       "<thead>\n",
       "<tr><th>predict  </th><th style=\"text-align: right;\">   Good</th><th style=\"text-align: right;\">    bad</th></tr>\n",
       "</thead>\n",
       "<tbody>\n",
       "<tr><td>Good     </td><td style=\"text-align: right;\">0.79119</td><td style=\"text-align: right;\">0.20881</td></tr>\n",
       "</tbody>\n",
       "</table>"
      ]
     },
     "metadata": {},
     "output_type": "display_data"
    },
    {
     "data": {
      "text/plain": []
     },
     "execution_count": 88,
     "metadata": {},
     "output_type": "execute_result"
    }
   ],
   "source": [
    "proba = a[0,1]\n",
    "a[0,:]"
   ]
  },
  {
   "cell_type": "code",
   "execution_count": 89,
   "metadata": {},
   "outputs": [
    {
     "data": {
      "text/plain": [
       "0.7911904032067156"
      ]
     },
     "execution_count": 89,
     "metadata": {},
     "output_type": "execute_result"
    }
   ],
   "source": [
    "proba"
   ]
  },
  {
   "cell_type": "code",
   "execution_count": 79,
   "metadata": {},
   "outputs": [
    {
     "data": {
      "image/png": "[encoded data removed]",
      "text/plain": [
       "<Figure size 640x480 with 1 Axes>"
      ]
     },
     "metadata": {},
     "output_type": "display_data"
    },
    {
     "data": {
      "text/plain": [
       "<ggplot: (-9223371892409274329)>"
      ]
     },
     "execution_count": 79,
     "metadata": {},
     "output_type": "execute_result"
    }
   ],
   "source": [
    "v =silly.varimp()\n",
    "df =pd.DataFrame(v,columns =['c1','c2','c3','c4'])\n",
    "x =pd.melt(df,id_vars = 'c1')\n",
    "import plotnine\n",
    "from plotnine import *\n",
    "(ggplot(x,aes(x=\"c1\",y='value'))+geom_bar(stat =\"identity\",fill =\"blue\")+coord_flip()+labs(title=\"Variable importance\"))"
   ]
  },
  {
   "cell_type": "code",
   "execution_count": 72,
   "metadata": {},
   "outputs": [
    {
     "data": {
      "text/html": [
       "<div>\n",
       "<style scoped>\n",
       "    .dataframe tbody tr th:only-of-type {\n",
       "        vertical-align: middle;\n",
       "    }\n",
       "\n",
       "    .dataframe tbody tr th {\n",
       "        vertical-align: top;\n",
       "    }\n",
       "\n",
       "    .dataframe thead th {\n",
       "        text-align: right;\n",
       "    }\n",
       "</style>\n",
       "<table border=\"1\" class=\"dataframe\">\n",
       "  <thead>\n",
       "    <tr style=\"text-align: right;\">\n",
       "      <th></th>\n",
       "      <th>c1</th>\n",
       "      <th>variable</th>\n",
       "      <th>value</th>\n",
       "    </tr>\n",
       "  </thead>\n",
       "  <tbody>\n",
       "    <tr>\n",
       "      <th>0</th>\n",
       "      <td>int_rate</td>\n",
       "      <td>c2</td>\n",
       "      <td>5387.077148</td>\n",
       "    </tr>\n",
       "    <tr>\n",
       "      <th>1</th>\n",
       "      <td>purpose</td>\n",
       "      <td>c2</td>\n",
       "      <td>372.212616</td>\n",
       "    </tr>\n",
       "    <tr>\n",
       "      <th>2</th>\n",
       "      <td>annual_inc</td>\n",
       "      <td>c2</td>\n",
       "      <td>182.693863</td>\n",
       "    </tr>\n",
       "    <tr>\n",
       "      <th>3</th>\n",
       "      <td>installment</td>\n",
       "      <td>c2</td>\n",
       "      <td>101.064087</td>\n",
       "    </tr>\n",
       "    <tr>\n",
       "      <th>4</th>\n",
       "      <td>term</td>\n",
       "      <td>c2</td>\n",
       "      <td>97.103409</td>\n",
       "    </tr>\n",
       "    <tr>\n",
       "      <th>5</th>\n",
       "      <td>funded_amnt</td>\n",
       "      <td>c2</td>\n",
       "      <td>78.155769</td>\n",
       "    </tr>\n",
       "    <tr>\n",
       "      <th>6</th>\n",
       "      <td>loan_amnt</td>\n",
       "      <td>c2</td>\n",
       "      <td>52.540295</td>\n",
       "    </tr>\n",
       "    <tr>\n",
       "      <th>7</th>\n",
       "      <td>emp_length</td>\n",
       "      <td>c2</td>\n",
       "      <td>22.137741</td>\n",
       "    </tr>\n",
       "    <tr>\n",
       "      <th>8</th>\n",
       "      <td>home_ownership</td>\n",
       "      <td>c2</td>\n",
       "      <td>4.128416</td>\n",
       "    </tr>\n",
       "    <tr>\n",
       "      <th>9</th>\n",
       "      <td>int_rate</td>\n",
       "      <td>c3</td>\n",
       "      <td>1.000000</td>\n",
       "    </tr>\n",
       "    <tr>\n",
       "      <th>10</th>\n",
       "      <td>purpose</td>\n",
       "      <td>c3</td>\n",
       "      <td>0.069094</td>\n",
       "    </tr>\n",
       "    <tr>\n",
       "      <th>11</th>\n",
       "      <td>annual_inc</td>\n",
       "      <td>c3</td>\n",
       "      <td>0.033913</td>\n",
       "    </tr>\n",
       "    <tr>\n",
       "      <th>12</th>\n",
       "      <td>installment</td>\n",
       "      <td>c3</td>\n",
       "      <td>0.018760</td>\n",
       "    </tr>\n",
       "    <tr>\n",
       "      <th>13</th>\n",
       "      <td>term</td>\n",
       "      <td>c3</td>\n",
       "      <td>0.018025</td>\n",
       "    </tr>\n",
       "    <tr>\n",
       "      <th>14</th>\n",
       "      <td>funded_amnt</td>\n",
       "      <td>c3</td>\n",
       "      <td>0.014508</td>\n",
       "    </tr>\n",
       "    <tr>\n",
       "      <th>15</th>\n",
       "      <td>loan_amnt</td>\n",
       "      <td>c3</td>\n",
       "      <td>0.009753</td>\n",
       "    </tr>\n",
       "    <tr>\n",
       "      <th>16</th>\n",
       "      <td>emp_length</td>\n",
       "      <td>c3</td>\n",
       "      <td>0.004109</td>\n",
       "    </tr>\n",
       "    <tr>\n",
       "      <th>17</th>\n",
       "      <td>home_ownership</td>\n",
       "      <td>c3</td>\n",
       "      <td>0.000766</td>\n",
       "    </tr>\n",
       "    <tr>\n",
       "      <th>18</th>\n",
       "      <td>int_rate</td>\n",
       "      <td>c4</td>\n",
       "      <td>0.855484</td>\n",
       "    </tr>\n",
       "    <tr>\n",
       "      <th>19</th>\n",
       "      <td>purpose</td>\n",
       "      <td>c4</td>\n",
       "      <td>0.059108</td>\n",
       "    </tr>\n",
       "    <tr>\n",
       "      <th>20</th>\n",
       "      <td>annual_inc</td>\n",
       "      <td>c4</td>\n",
       "      <td>0.029012</td>\n",
       "    </tr>\n",
       "    <tr>\n",
       "      <th>21</th>\n",
       "      <td>installment</td>\n",
       "      <td>c4</td>\n",
       "      <td>0.016049</td>\n",
       "    </tr>\n",
       "    <tr>\n",
       "      <th>22</th>\n",
       "      <td>term</td>\n",
       "      <td>c4</td>\n",
       "      <td>0.015420</td>\n",
       "    </tr>\n",
       "    <tr>\n",
       "      <th>23</th>\n",
       "      <td>funded_amnt</td>\n",
       "      <td>c4</td>\n",
       "      <td>0.012411</td>\n",
       "    </tr>\n",
       "    <tr>\n",
       "      <th>24</th>\n",
       "      <td>loan_amnt</td>\n",
       "      <td>c4</td>\n",
       "      <td>0.008344</td>\n",
       "    </tr>\n",
       "    <tr>\n",
       "      <th>25</th>\n",
       "      <td>emp_length</td>\n",
       "      <td>c4</td>\n",
       "      <td>0.003516</td>\n",
       "    </tr>\n",
       "    <tr>\n",
       "      <th>26</th>\n",
       "      <td>home_ownership</td>\n",
       "      <td>c4</td>\n",
       "      <td>0.000656</td>\n",
       "    </tr>\n",
       "  </tbody>\n",
       "</table>\n",
       "</div>"
      ],
      "text/plain": [
       "                c1 variable        value\n",
       "0         int_rate       c2  5387.077148\n",
       "1          purpose       c2   372.212616\n",
       "2       annual_inc       c2   182.693863\n",
       "3      installment       c2   101.064087\n",
       "4             term       c2    97.103409\n",
       "5      funded_amnt       c2    78.155769\n",
       "6        loan_amnt       c2    52.540295\n",
       "7       emp_length       c2    22.137741\n",
       "8   home_ownership       c2     4.128416\n",
       "9         int_rate       c3     1.000000\n",
       "10         purpose       c3     0.069094\n",
       "11      annual_inc       c3     0.033913\n",
       "12     installment       c3     0.018760\n",
       "13            term       c3     0.018025\n",
       "14     funded_amnt       c3     0.014508\n",
       "15       loan_amnt       c3     0.009753\n",
       "16      emp_length       c3     0.004109\n",
       "17  home_ownership       c3     0.000766\n",
       "18        int_rate       c4     0.855484\n",
       "19         purpose       c4     0.059108\n",
       "20      annual_inc       c4     0.029012\n",
       "21     installment       c4     0.016049\n",
       "22            term       c4     0.015420\n",
       "23     funded_amnt       c4     0.012411\n",
       "24       loan_amnt       c4     0.008344\n",
       "25      emp_length       c4     0.003516\n",
       "26  home_ownership       c4     0.000656"
      ]
     },
     "execution_count": 72,
     "metadata": {},
     "output_type": "execute_result"
    }
   ],
   "source": []
  },
  {
   "cell_type": "code",
   "execution_count": 100,
   "metadata": {},
   "outputs": [
    {
     "name": "stdout",
     "output_type": "stream",
     "text": [
      "Parse progress: |█████████████████████████████████████████████████████████| 100%\n",
      "gbm Model Build progress: |███████████████████████████████████████████████| 100%\n"
     ]
    },
    {
     "data": {
      "text/html": [
       "<table>\n",
       "<thead>\n",
       "<tr><th style=\"text-align: right;\">  loan_amnt</th><th style=\"text-align: right;\">  installment</th><th style=\"text-align: right;\">  int_rate</th><th style=\"text-align: right;\">  term</th><th style=\"text-align: right;\">  emp_length</th><th>home_ownership  </th><th style=\"text-align: right;\">  annual_inc</th><th>purpose           </th></tr>\n",
       "</thead>\n",
       "<tbody>\n",
       "<tr><td style=\"text-align: right;\">      12000</td><td style=\"text-align: right;\">       375.49</td><td style=\"text-align: right;\">      7.9 </td><td style=\"text-align: right;\">    36</td><td style=\"text-align: right;\">          10</td><td>RENT            </td><td style=\"text-align: right;\">       62300</td><td>debt_consolidation</td></tr>\n",
       "<tr><td style=\"text-align: right;\">      17675</td><td style=\"text-align: right;\">       417.25</td><td style=\"text-align: right;\">     14.65</td><td style=\"text-align: right;\">    60</td><td style=\"text-align: right;\">           1</td><td>RENT            </td><td style=\"text-align: right;\">       50000</td><td>debt_consolidation</td></tr>\n",
       "</tbody>\n",
       "</table>"
      ]
     },
     "metadata": {},
     "output_type": "display_data"
    },
    {
     "data": {
      "text/plain": []
     },
     "execution_count": 100,
     "metadata": {},
     "output_type": "execute_result"
    }
   ],
   "source": [
    "BB =['loan_amnt', 'installment', 'int_rate', 'term','emp_length', 'home_ownership', 'annual_inc', 'purpose',]\n",
    "F=good_loans[BB]\n",
    "F=h2o.H2OFrame(F)\n",
    "x =['installment', 'int_rate', 'term','emp_length', 'home_ownership', 'annual_inc', 'purpose',]\n",
    "train,test,valid =F.split_frame([0.9,0.05])\n",
    "reg =GB()\n",
    "reg.train(training_frame=train,validation_frame=test,x =x,y='loan_amnt')\n",
    "\n"
   ]
  },
  {
   "cell_type": "code",
   "execution_count": 102,
   "metadata": {},
   "outputs": [
    {
     "name": "stdout",
     "output_type": "stream",
     "text": [
      "gbm prediction progress: |████████████████████████████████████████████████| 100%\n"
     ]
    },
    {
     "data": {
      "text/html": [
       "<table>\n",
       "<thead>\n",
       "<tr><th style=\"text-align: right;\">  predict</th></tr>\n",
       "</thead>\n",
       "<tbody>\n",
       "<tr><td style=\"text-align: right;\">  12152.1</td></tr>\n",
       "<tr><td style=\"text-align: right;\">  18824.7</td></tr>\n",
       "</tbody>\n",
       "</table>"
      ]
     },
     "metadata": {},
     "output_type": "display_data"
    },
    {
     "data": {
      "text/plain": []
     },
     "execution_count": 102,
     "metadata": {},
     "output_type": "execute_result"
    }
   ],
   "source": [
    "G =test[:2,:]\n",
    "G=G[x]\n",
    "reg.predict(G)\n"
   ]
  },
  {
   "cell_type": "code",
   "execution_count": 104,
   "metadata": {},
   "outputs": [
    {
     "data": {
      "text/html": [
       "<table>\n",
       "<thead>\n",
       "<tr><th style=\"text-align: right;\">  loan_amnt</th><th style=\"text-align: right;\">  installment</th><th style=\"text-align: right;\">  int_rate</th><th style=\"text-align: right;\">  term</th><th style=\"text-align: right;\">  emp_length</th><th>home_ownership  </th><th style=\"text-align: right;\">  annual_inc</th><th>purpose           </th></tr>\n",
       "</thead>\n",
       "<tbody>\n",
       "<tr><td style=\"text-align: right;\">      12000</td><td style=\"text-align: right;\">       375.49</td><td style=\"text-align: right;\">      7.9 </td><td style=\"text-align: right;\">    36</td><td style=\"text-align: right;\">          10</td><td>RENT            </td><td style=\"text-align: right;\">       62300</td><td>debt_consolidation</td></tr>\n",
       "<tr><td style=\"text-align: right;\">      17675</td><td style=\"text-align: right;\">       417.25</td><td style=\"text-align: right;\">     14.65</td><td style=\"text-align: right;\">    60</td><td style=\"text-align: right;\">           1</td><td>RENT            </td><td style=\"text-align: right;\">       50000</td><td>debt_consolidation</td></tr>\n",
       "</tbody>\n",
       "</table>"
      ]
     },
     "metadata": {},
     "output_type": "display_data"
    },
    {
     "data": {
      "text/plain": []
     },
     "execution_count": 104,
     "metadata": {},
     "output_type": "execute_result"
    }
   ],
   "source": [
    "test[:2,:]"
   ]
  },
  {
   "cell_type": "code",
   "execution_count": 111,
   "metadata": {},
   "outputs": [
    {
     "name": "stdout",
     "output_type": "stream",
     "text": [
      "Parse progress: |█████████████████████████████████████████████████████████| 100%\n",
      "gbm prediction progress: |████████████████████████████████████████████████| 100%\n"
     ]
    },
    {
     "data": {
      "text/html": [
       "<table>\n",
       "<thead>\n",
       "<tr><th style=\"text-align: right;\">  predict</th></tr>\n",
       "</thead>\n",
       "<tbody>\n",
       "<tr><td style=\"text-align: right;\"> 10990.8 </td></tr>\n",
       "<tr><td style=\"text-align: right;\"> 15076.2 </td></tr>\n",
       "<tr><td style=\"text-align: right;\">  9675.89</td></tr>\n",
       "<tr><td style=\"text-align: right;\">  7395.95</td></tr>\n",
       "<tr><td style=\"text-align: right;\"> 25217.8 </td></tr>\n",
       "<tr><td style=\"text-align: right;\">  7086   </td></tr>\n",
       "<tr><td style=\"text-align: right;\">  9963.84</td></tr>\n",
       "<tr><td style=\"text-align: right;\"> 17222.9 </td></tr>\n",
       "<tr><td style=\"text-align: right;\">  4069.59</td></tr>\n",
       "<tr><td style=\"text-align: right;\">  9965.69</td></tr>\n",
       "</tbody>\n",
       "</table>"
      ]
     },
     "metadata": {},
     "output_type": "display_data"
    },
    {
     "data": {
      "text/plain": []
     },
     "execution_count": 111,
     "metadata": {},
     "output_type": "execute_result"
    }
   ],
   "source": [
    "K = h2o.H2OFrame(bad_loans.iloc[40:50,:])\n",
    "K =K[x]\n",
    "reg.predict(K)"
   ]
  },
  {
   "cell_type": "code",
   "execution_count": 113,
   "metadata": {},
   "outputs": [
    {
     "data": {
      "text/html": [
       "<div>\n",
       "<style scoped>\n",
       "    .dataframe tbody tr th:only-of-type {\n",
       "        vertical-align: middle;\n",
       "    }\n",
       "\n",
       "    .dataframe tbody tr th {\n",
       "        vertical-align: top;\n",
       "    }\n",
       "\n",
       "    .dataframe thead th {\n",
       "        text-align: right;\n",
       "    }\n",
       "</style>\n",
       "<table border=\"1\" class=\"dataframe\">\n",
       "  <thead>\n",
       "    <tr style=\"text-align: right;\">\n",
       "      <th></th>\n",
       "      <th>loan_amnt</th>\n",
       "      <th>funded_amnt</th>\n",
       "      <th>installment</th>\n",
       "      <th>int_rate</th>\n",
       "      <th>term</th>\n",
       "      <th>emp_length</th>\n",
       "      <th>home_ownership</th>\n",
       "      <th>annual_inc</th>\n",
       "      <th>purpose</th>\n",
       "      <th>loan_status</th>\n",
       "      <th>loan_status_bin</th>\n",
       "    </tr>\n",
       "  </thead>\n",
       "  <tbody>\n",
       "    <tr>\n",
       "      <th>204</th>\n",
       "      <td>10500.0</td>\n",
       "      <td>10500.0</td>\n",
       "      <td>370.66</td>\n",
       "      <td>16.29</td>\n",
       "      <td>36</td>\n",
       "      <td>3</td>\n",
       "      <td>RENT</td>\n",
       "      <td>30000.0</td>\n",
       "      <td>debt_consolidation</td>\n",
       "      <td>Charged Off</td>\n",
       "      <td>1</td>\n",
       "    </tr>\n",
       "    <tr>\n",
       "      <th>212</th>\n",
       "      <td>15075.0</td>\n",
       "      <td>15075.0</td>\n",
       "      <td>517.21</td>\n",
       "      <td>14.27</td>\n",
       "      <td>36</td>\n",
       "      <td>10</td>\n",
       "      <td>RENT</td>\n",
       "      <td>35000.0</td>\n",
       "      <td>debt_consolidation</td>\n",
       "      <td>Charged Off</td>\n",
       "      <td>1</td>\n",
       "    </tr>\n",
       "    <tr>\n",
       "      <th>220</th>\n",
       "      <td>9500.0</td>\n",
       "      <td>9500.0</td>\n",
       "      <td>318.68</td>\n",
       "      <td>12.69</td>\n",
       "      <td>36</td>\n",
       "      <td>1</td>\n",
       "      <td>MORTGAGE</td>\n",
       "      <td>52500.0</td>\n",
       "      <td>moving</td>\n",
       "      <td>Charged Off</td>\n",
       "      <td>1</td>\n",
       "    </tr>\n",
       "    <tr>\n",
       "      <th>224</th>\n",
       "      <td>7200.0</td>\n",
       "      <td>7200.0</td>\n",
       "      <td>225.29</td>\n",
       "      <td>7.90</td>\n",
       "      <td>36</td>\n",
       "      <td>3</td>\n",
       "      <td>RENT</td>\n",
       "      <td>68000.0</td>\n",
       "      <td>debt_consolidation</td>\n",
       "      <td>Charged Off</td>\n",
       "      <td>1</td>\n",
       "    </tr>\n",
       "    <tr>\n",
       "      <th>225</th>\n",
       "      <td>26000.0</td>\n",
       "      <td>26000.0</td>\n",
       "      <td>642.96</td>\n",
       "      <td>16.77</td>\n",
       "      <td>60</td>\n",
       "      <td>10</td>\n",
       "      <td>MORTGAGE</td>\n",
       "      <td>53000.0</td>\n",
       "      <td>home_improvement</td>\n",
       "      <td>Charged Off</td>\n",
       "      <td>1</td>\n",
       "    </tr>\n",
       "    <tr>\n",
       "      <th>226</th>\n",
       "      <td>7000.0</td>\n",
       "      <td>7000.0</td>\n",
       "      <td>154.69</td>\n",
       "      <td>11.71</td>\n",
       "      <td>60</td>\n",
       "      <td>6</td>\n",
       "      <td>MORTGAGE</td>\n",
       "      <td>69600.0</td>\n",
       "      <td>credit_card</td>\n",
       "      <td>Charged Off</td>\n",
       "      <td>1</td>\n",
       "    </tr>\n",
       "    <tr>\n",
       "      <th>231</th>\n",
       "      <td>10000.0</td>\n",
       "      <td>10000.0</td>\n",
       "      <td>335.45</td>\n",
       "      <td>12.69</td>\n",
       "      <td>36</td>\n",
       "      <td>2</td>\n",
       "      <td>RENT</td>\n",
       "      <td>70000.0</td>\n",
       "      <td>credit_card</td>\n",
       "      <td>Charged Off</td>\n",
       "      <td>1</td>\n",
       "    </tr>\n",
       "    <tr>\n",
       "      <th>239</th>\n",
       "      <td>15600.0</td>\n",
       "      <td>15600.0</td>\n",
       "      <td>352.48</td>\n",
       "      <td>12.69</td>\n",
       "      <td>60</td>\n",
       "      <td>10</td>\n",
       "      <td>RENT</td>\n",
       "      <td>50000.0</td>\n",
       "      <td>vacation</td>\n",
       "      <td>Charged Off</td>\n",
       "      <td>1</td>\n",
       "    </tr>\n",
       "    <tr>\n",
       "      <th>251</th>\n",
       "      <td>4000.0</td>\n",
       "      <td>4000.0</td>\n",
       "      <td>134.18</td>\n",
       "      <td>12.69</td>\n",
       "      <td>36</td>\n",
       "      <td>2</td>\n",
       "      <td>RENT</td>\n",
       "      <td>25000.0</td>\n",
       "      <td>debt_consolidation</td>\n",
       "      <td>Charged Off</td>\n",
       "      <td>1</td>\n",
       "    </tr>\n",
       "    <tr>\n",
       "      <th>255</th>\n",
       "      <td>10000.0</td>\n",
       "      <td>10000.0</td>\n",
       "      <td>334.16</td>\n",
       "      <td>12.42</td>\n",
       "      <td>36</td>\n",
       "      <td>10</td>\n",
       "      <td>RENT</td>\n",
       "      <td>39000.0</td>\n",
       "      <td>credit_card</td>\n",
       "      <td>Charged Off</td>\n",
       "      <td>1</td>\n",
       "    </tr>\n",
       "  </tbody>\n",
       "</table>\n",
       "</div>"
      ],
      "text/plain": [
       "     loan_amnt  funded_amnt  installment  int_rate  term  emp_length  \\\n",
       "204    10500.0      10500.0       370.66     16.29    36           3   \n",
       "212    15075.0      15075.0       517.21     14.27    36          10   \n",
       "220     9500.0       9500.0       318.68     12.69    36           1   \n",
       "224     7200.0       7200.0       225.29      7.90    36           3   \n",
       "225    26000.0      26000.0       642.96     16.77    60          10   \n",
       "226     7000.0       7000.0       154.69     11.71    60           6   \n",
       "231    10000.0      10000.0       335.45     12.69    36           2   \n",
       "239    15600.0      15600.0       352.48     12.69    60          10   \n",
       "251     4000.0       4000.0       134.18     12.69    36           2   \n",
       "255    10000.0      10000.0       334.16     12.42    36          10   \n",
       "\n",
       "    home_ownership  annual_inc             purpose  loan_status  \\\n",
       "204           RENT     30000.0  debt_consolidation  Charged Off   \n",
       "212           RENT     35000.0  debt_consolidation  Charged Off   \n",
       "220       MORTGAGE     52500.0              moving  Charged Off   \n",
       "224           RENT     68000.0  debt_consolidation  Charged Off   \n",
       "225       MORTGAGE     53000.0    home_improvement  Charged Off   \n",
       "226       MORTGAGE     69600.0         credit_card  Charged Off   \n",
       "231           RENT     70000.0         credit_card  Charged Off   \n",
       "239           RENT     50000.0            vacation  Charged Off   \n",
       "251           RENT     25000.0  debt_consolidation  Charged Off   \n",
       "255           RENT     39000.0         credit_card  Charged Off   \n",
       "\n",
       "     loan_status_bin  \n",
       "204                1  \n",
       "212                1  \n",
       "220                1  \n",
       "224                1  \n",
       "225                1  \n",
       "226                1  \n",
       "231                1  \n",
       "239                1  \n",
       "251                1  \n",
       "255                1  "
      ]
     },
     "execution_count": 113,
     "metadata": {},
     "output_type": "execute_result"
    }
   ],
   "source": [
    "bad_loans.iloc[40:50,:]"
   ]
  },
  {
   "cell_type": "code",
   "execution_count": 143,
   "metadata": {},
   "outputs": [
    {
     "data": {
      "text/html": [
       "<div>\n",
       "<style scoped>\n",
       "    .dataframe tbody tr th:only-of-type {\n",
       "        vertical-align: middle;\n",
       "    }\n",
       "\n",
       "    .dataframe tbody tr th {\n",
       "        vertical-align: top;\n",
       "    }\n",
       "\n",
       "    .dataframe thead th {\n",
       "        text-align: right;\n",
       "    }\n",
       "</style>\n",
       "<table border=\"1\" class=\"dataframe\">\n",
       "  <thead>\n",
       "    <tr style=\"text-align: right;\">\n",
       "      <th></th>\n",
       "      <th>BANKS</th>\n",
       "      <th>LOANS</th>\n",
       "      <th>RATES</th>\n",
       "      <th>MAX_AMOUNT</th>\n",
       "    </tr>\n",
       "  </thead>\n",
       "  <tbody>\n",
       "    <tr>\n",
       "      <th>0</th>\n",
       "      <td>KCB BANK</td>\n",
       "      <td>Fuzu loan</td>\n",
       "      <td>14</td>\n",
       "      <td>4220</td>\n",
       "    </tr>\n",
       "    <tr>\n",
       "      <th>1</th>\n",
       "      <td>EQUITY BANK</td>\n",
       "      <td>Jiajiri loan</td>\n",
       "      <td>12</td>\n",
       "      <td>1433</td>\n",
       "    </tr>\n",
       "    <tr>\n",
       "      <th>2</th>\n",
       "      <td>COOPERATIVE BANK</td>\n",
       "      <td>Chama loan</td>\n",
       "      <td>15</td>\n",
       "      <td>9161</td>\n",
       "    </tr>\n",
       "    <tr>\n",
       "      <th>3</th>\n",
       "      <td>FAMILY BANK</td>\n",
       "      <td>Chetu loans</td>\n",
       "      <td>7</td>\n",
       "      <td>3908</td>\n",
       "    </tr>\n",
       "    <tr>\n",
       "      <th>4</th>\n",
       "      <td>STANBIC</td>\n",
       "      <td>Tusome loans</td>\n",
       "      <td>4</td>\n",
       "      <td>8255</td>\n",
       "    </tr>\n",
       "    <tr>\n",
       "      <th>5</th>\n",
       "      <td>GITHIRI</td>\n",
       "      <td>loan on items</td>\n",
       "      <td>20</td>\n",
       "      <td>6821</td>\n",
       "    </tr>\n",
       "    <tr>\n",
       "      <th>6</th>\n",
       "      <td>MSHWARI</td>\n",
       "      <td>mobile loan</td>\n",
       "      <td>80</td>\n",
       "      <td>8891</td>\n",
       "    </tr>\n",
       "  </tbody>\n",
       "</table>\n",
       "</div>"
      ],
      "text/plain": [
       "              BANKS          LOANS  RATES  MAX_AMOUNT\n",
       "0          KCB BANK      Fuzu loan     14        4220\n",
       "1       EQUITY BANK   Jiajiri loan     12        1433\n",
       "2  COOPERATIVE BANK     Chama loan     15        9161\n",
       "3       FAMILY BANK    Chetu loans      7        3908\n",
       "4           STANBIC   Tusome loans      4        8255\n",
       "5           GITHIRI  loan on items     20        6821\n",
       "6           MSHWARI    mobile loan     80        8891"
      ]
     },
     "execution_count": 143,
     "metadata": {},
     "output_type": "execute_result"
    }
   ],
   "source": [
    "banks = ['KCB BANK', 'EQUITY BANK','COOPERATIVE BANK','FAMILY BANK','STANBIC', 'GITHIRI','MSHWARI']\n",
    "loans = ['Fuzu loan', 'Jiajiri loan', 'Chama loan', 'Chetu loans', 'Tusome loans','loan on items','mobile loan']\n",
    "rates = [14,12,15,7,4,20,80]\n",
    "import random\n",
    "max_amount = [random.randint(1000, 10000) for i in range(len(banks))]\n",
    "\n",
    "empty = pd.DataFrame()\n",
    "empty['BANKS']=banks\n",
    "empty['LOANS']=loans\n",
    "empty['RATES'] = rates\n",
    "empty['MAX_AMOUNT'] = max_amount\n",
    "\n",
    "empty"
   ]
  },
  {
   "cell_type": "code",
   "execution_count": 158,
   "metadata": {},
   "outputs": [
    {
     "data": {
      "text/plain": [
       "[9161]"
      ]
     },
     "execution_count": 158,
     "metadata": {},
     "output_type": "execute_result"
    }
   ],
   "source": [
    "def trump(x,df):\n",
    "    if x*100<21:\n",
    "        return pd.DataFrame()\n",
    "    elif x*100<30:\n",
    "        fil=df.RATES>14\n",
    "        fil1 =df.RATES<20\n",
    "        return df[fil &fil1 ]\n",
    "    elif x*100<40:\n",
    "        fil=df.RATES>=10\n",
    "        fil1 =df.RATES<14\n",
    "        return df[fil &fil1 ]\n",
    "    elif x*100<50:\n",
    "        fil=df.RATES>5\n",
    "        fil1 =df.RATES<10\n",
    "        return df[fil &fil1 ]\n",
    "    else:\n",
    "        filters =df.RATES<5\n",
    "        return df[filters]\n",
    "B =trump(0.22,empty)\n",
    "B.shape[0]\n",
    "banks =[i for i in B.BANKS[:2]]\n",
    "loans =[i for i in B.LOANS[:2]]\n",
    "interest =[i for i in B.RATES[:2]]\n",
    "maxi =[i for i in B.MAX_AMOUNT[:2]]\n",
    "banks\n",
    "loans\n",
    "interest\n",
    "maxi"
   ]
  },
  {
   "cell_type": "code",
   "execution_count": 159,
   "metadata": {},
   "outputs": [
    {
     "data": {
      "text/plain": [
       "2    COOPERATIVE BANK\n",
       "Name: BANKS, dtype: object"
      ]
     },
     "execution_count": 159,
     "metadata": {},
     "output_type": "execute_result"
    }
   ],
   "source": [
    "B.BANKS"
   ]
  },
  {
   "cell_type": "code",
   "execution_count": 145,
   "metadata": {},
   "outputs": [],
   "source": [
    "empty.to_csv('loans.csv')"
   ]
  },
  {
   "cell_type": "code",
   "execution_count": null,
   "metadata": {},
   "outputs": [],
   "source": []
  }
 ],
 "metadata": {
  "kernelspec": {
   "display_name": "Python 3",
   "language": "python",
   "name": "python3"
  },
  "language_info": {
   "codemirror_mode": {
    "name": "ipython",
    "version": 3
   },
   "file_extension": ".py",
   "mimetype": "text/x-python",
   "name": "python",
   "nbconvert_exporter": "python",
   "pygments_lexer": "ipython3",
   "version": "3.7.0"
  }
 },
 "nbformat": 4,
 "nbformat_minor": 2
}
